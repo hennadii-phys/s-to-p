{
 "cells": [
  {
   "cell_type": "code",
   "execution_count": 1,
   "id": "2639ddcf-6276-47a0-9003-09902f24f1bb",
   "metadata": {},
   "outputs": [
    {
     "data": {
      "text/plain": [
       "4"
      ]
     },
     "execution_count": 1,
     "metadata": {},
     "output_type": "execute_result"
    }
   ],
   "source": [
    "2+2"
   ]
  },
  {
   "cell_type": "code",
   "execution_count": 2,
   "id": "16ef81c4-ba49-4cad-8304-a0a608705ace",
   "metadata": {},
   "outputs": [
    {
     "ename": "IndentationError",
     "evalue": "expected an indented block after 'for' statement on line 7 (225679106.py, line 8)",
     "output_type": "error",
     "traceback": [
      "\u001b[0;36m  Cell \u001b[0;32mIn[2], line 8\u001b[0;36m\u001b[0m\n\u001b[0;31m    solution = tdgl.solve(\u001b[0m\n\u001b[0m    ^\u001b[0m\n\u001b[0;31mIndentationError\u001b[0m\u001b[0;31m:\u001b[0m expected an indented block after 'for' statement on line 7\n"
     ]
    }
   ],
   "source": [
    "options = tdgl.SolverOptions(\n",
    "solve_time=2000,\n",
    "field_units=\"mT\",\n",
    ")\n",
    "fields = numpy.linspace(0.2, 1.9, 18)\n",
    "solutions = []\n",
    "for field in fields:\n",
    "solution = tdgl.solve(\n",
    "device,\n",
    "options,\n",
    "applied_vector_potential=field,\n",
    ")\n",
    "solutions.append(solution)\n",
    "hole_fluxoids = []\n",
    "for solution in solutions:\n",
    "solution.plot_order_parameter()\n",
    "hole_fluxoids.append(\n",
    "sum(solution.hole_fluxoid(\"hole\"))\n",
    ")"
   ]
  },
  {
   "cell_type": "code",
   "execution_count": null,
   "id": "7a9e6b63-cf6b-460c-b9d4-931277dc1703",
   "metadata": {},
   "outputs": [],
   "source": []
  }
 ],
 "metadata": {
  "kernelspec": {
   "display_name": "Python 3 (ipykernel)",
   "language": "python",
   "name": "python3"
  },
  "language_info": {
   "codemirror_mode": {
    "name": "ipython",
    "version": 3
   },
   "file_extension": ".py",
   "mimetype": "text/x-python",
   "name": "python",
   "nbconvert_exporter": "python",
   "pygments_lexer": "ipython3",
   "version": "3.10.16"
  }
 },
 "nbformat": 4,
 "nbformat_minor": 5
}
